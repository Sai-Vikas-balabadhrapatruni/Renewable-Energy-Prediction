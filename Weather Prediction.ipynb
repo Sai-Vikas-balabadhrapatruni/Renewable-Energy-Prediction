{
 "cells": [
  {
   "cell_type": "code",
   "execution_count": 2,
   "id": "75a975d4",
   "metadata": {},
   "outputs": [],
   "source": [
    "import pandas as pd"
   ]
  },
  {
   "cell_type": "code",
   "execution_count": 15,
   "id": "b26d1969",
   "metadata": {},
   "outputs": [
    {
     "name": "stdout",
     "output_type": "stream",
     "text": [
      "Index(['Date time', 'Maximum Temperature', 'Minimum Temperature',\n",
      "       'Temperature', 'Wind Chill', 'Heat Index', 'Precipitation',\n",
      "       'Wind Speed', 'Wind Direction', 'Wind Gust', 'Visibility',\n",
      "       'Cloud Cover', 'Relative Humidity'],\n",
      "      dtype='object')\n",
      "Index(['Date time', 'Maximum Temperature', 'Minimum Temperature',\n",
      "       'Temperature', 'Wind Chill', 'Heat Index', 'Precipitation',\n",
      "       'Wind Speed', 'Wind Direction', 'Wind Gust', 'Visibility',\n",
      "       'Cloud Cover', 'Relative Humidity'],\n",
      "      dtype='object')\n",
      "Index(['Date time', 'Maximum Temperature', 'Minimum Temperature',\n",
      "       'Temperature', 'Wind Chill', 'Heat Index', 'Precipitation',\n",
      "       'Wind Speed', 'Wind Direction', 'Wind Gust', 'Visibility',\n",
      "       'Cloud Cover', 'Relative Humidity'],\n",
      "      dtype='object')\n"
     ]
    }
   ],
   "source": [
    "india=pd.read_csv(\"E:/SEM-1/Smart Energy/Project/India/India Weather Data.csv\")\n",
    "USA=pd.read_csv(\"E:/SEM-1/Smart Energy/Project/USA/USA Weather Data.csv\")\n",
    "UK=pd.read_csv(\"E:/SEM-1/Smart Energy/Project/United Kingdom/UK Weather Data.csv\")\n",
    "print(india.columns)\n",
    "print(USA.columns)\n",
    "print(UK.columns)"
   ]
  },
  {
   "cell_type": "code",
   "execution_count": 9,
   "id": "417e5216",
   "metadata": {},
   "outputs": [],
   "source": [
    "data=data.drop(\"Maximum Temperature\",axis=1)\n",
    "data=data.drop(\"Minimum Temperature\",axis=1)\n",
    "data=data.drop(\"Temperature\",axis=1)"
   ]
  },
  {
   "cell_type": "code",
   "execution_count": 10,
   "id": "b306e82e",
   "metadata": {},
   "outputs": [
    {
     "data": {
      "text/plain": [
       "Index(['Date time', 'Wind Chill', 'Heat Index', 'Precipitation', 'Wind Speed',\n",
       "       'Wind Direction', 'Wind Gust', 'Visibility', 'Cloud Cover',\n",
       "       'Relative Humidity', 'Maximum Temperature F', 'Minimum Temperature F',\n",
       "       'Temperature F'],\n",
       "      dtype='object')"
      ]
     },
     "execution_count": 10,
     "metadata": {},
     "output_type": "execute_result"
    }
   ],
   "source": [
    "data.columns"
   ]
  },
  {
   "cell_type": "code",
   "execution_count": 43,
   "id": "54ce5697",
   "metadata": {},
   "outputs": [
    {
     "name": "stdout",
     "output_type": "stream",
     "text": [
      "Index(['Time', 'Balance', 'Product', 'Value', 'Unit'], dtype='object')\n"
     ]
    }
   ],
   "source": [
    "data.to_csv(r'E:/SEM-1/Smart Energy/Project/India Weather Data.csv')\n",
    "print(data.columns)"
   ]
  },
  {
   "cell_type": "code",
   "execution_count": 53,
   "id": "6df7b30f",
   "metadata": {},
   "outputs": [
    {
     "name": "stdout",
     "output_type": "stream",
     "text": [
      "Index(['Time', 'Product', 'Value'], dtype='object')\n"
     ]
    }
   ],
   "source": [
    "data=pd.read_csv(\"E:/SEM-1/Smart Energy/Project/United Kingdom/UK Renewable data.csv\")\n",
    "print(data.columns)"
   ]
  },
  {
   "cell_type": "code",
   "execution_count": 52,
   "id": "3e115e43",
   "metadata": {},
   "outputs": [],
   "source": [
    "\n",
    "data=data[~data['Balance'].str.contains(\"Total Imports\")]\n",
    "data=data[~data['Balance'].str.contains(\"Total Exports\")]\n",
    "data=data[~data['Balance'].str.contains(\"Used for pumped storage\")]\n",
    "data=data[~data['Balance'].str.contains(\"Distribution Losses\")]\n",
    "data=data[~data['Balance'].str.contains(\"Final Consumption\")]\n",
    "data.to_csv(r'E:/SEM-1/Smart Energy/Project/United Kingdom/UK Renewable data_check.csv')"
   ]
  },
  {
   "cell_type": "code",
   "execution_count": 54,
   "id": "0a6729df",
   "metadata": {},
   "outputs": [
    {
     "data": {
      "text/plain": [
       "Index(['Coal, Peat and Manufactured Gases', 'Combustible Renewables',\n",
       "       'Electricity', 'Geothermal', 'Hydro', 'Natural Gas', 'Not Specified',\n",
       "       'Nuclear', 'Oil and Petroleum Products',\n",
       "       'Other Combustible Non-Renewables', 'Other Renewables', 'Solar',\n",
       "       'Total Combustible Fuels', 'Total Renewables (Geo, Solar, Wind, Other)',\n",
       "       'Wind'],\n",
       "      dtype='object', name='Product')"
      ]
     },
     "execution_count": 54,
     "metadata": {},
     "output_type": "execute_result"
    }
   ],
   "source": [
    "output=data.pivot('Time', 'Product', 'Value')\n",
    "output.columns"
   ]
  },
  {
   "cell_type": "code",
   "execution_count": 55,
   "id": "097dbb26",
   "metadata": {},
   "outputs": [],
   "source": [
    "output.to_csv(r'E:/SEM-1/Smart Energy/Project/United Kingdom/file.csv')"
   ]
  },
  {
   "cell_type": "code",
   "execution_count": null,
   "id": "a4bf254e",
   "metadata": {},
   "outputs": [],
   "source": []
  }
 ],
 "metadata": {
  "kernelspec": {
   "display_name": "Python 3 (ipykernel)",
   "language": "python",
   "name": "python3"
  },
  "language_info": {
   "codemirror_mode": {
    "name": "ipython",
    "version": 3
   },
   "file_extension": ".py",
   "mimetype": "text/x-python",
   "name": "python",
   "nbconvert_exporter": "python",
   "pygments_lexer": "ipython3",
   "version": "3.9.7"
  }
 },
 "nbformat": 4,
 "nbformat_minor": 5
}
