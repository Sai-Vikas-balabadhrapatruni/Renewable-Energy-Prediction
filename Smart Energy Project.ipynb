{
 "cells": [
  {
   "cell_type": "code",
   "execution_count": 1,
   "id": "c253544f",
   "metadata": {},
   "outputs": [],
   "source": [
    "import numpy as np\n",
    "from tensorflow import keras\n",
    "import tensorflow\n",
    "from tensorflow.keras.models import Sequential\n",
    "from tensorflow.keras.layers import LSTM\n",
    "from tensorflow.keras.layers import Dense\n",
    "from tensorflow.keras.layers import Dropout\n",
    "import pandas as pd\n",
    "import matplotlib.pyplot as plt\n",
    "from sklearn.preprocessing import StandardScaler\n",
    "import matplotlib.pyplot as plt \n",
    "import seaborn as sns"
   ]
  },
  {
   "cell_type": "code",
   "execution_count": 63,
   "id": "60e0d9a1",
   "metadata": {},
   "outputs": [],
   "source": [
    "data=pd.read_csv('E:/SEM-1/Smart Energy/Project/India/India Renewable data.csv',parse_dates=['Time'])"
   ]
  },
  {
   "cell_type": "code",
   "execution_count": 67,
   "id": "628fbb72",
   "metadata": {},
   "outputs": [],
   "source": [
    "#dataframe=data.loc[data['Date'].notna() == True]\n",
    "#dataframe=dataframe.replace(to_replace =\"Not Available\",value = 0)\n",
    "#df = dataframe[0:500] # first 120 months as training set\n",
    "#test_data = dataframe[500:]\n",
    "#df['Date']=pd.to_datetime(df['Date'],format='%d-%m-%Y')\n",
    "#df=df[(df['Date']<'2020-01-01')]\n",
    "df=data.loc[data['Time'].notna() == True]\n",
    "df=df.replace(to_replace =\"Not Available\",value = 0)"
   ]
  },
  {
   "cell_type": "code",
   "execution_count": 68,
   "id": "2c289420",
   "metadata": {},
   "outputs": [],
   "source": [
    "train_dates=pd.to_datetime(df['Time'],format='%d-%m-%Y')"
   ]
  },
  {
   "cell_type": "code",
   "execution_count": 69,
   "id": "061f8fe9",
   "metadata": {},
   "outputs": [],
   "source": [
    "cols=list(df)[1:30]"
   ]
  },
  {
   "cell_type": "code",
   "execution_count": 70,
   "id": "5a293d6d",
   "metadata": {},
   "outputs": [],
   "source": [
    "df_for_training=df[cols].astype('float')"
   ]
  },
  {
   "cell_type": "code",
   "execution_count": 71,
   "id": "823a6181",
   "metadata": {},
   "outputs": [],
   "source": [
    "scaler=StandardScaler()"
   ]
  },
  {
   "cell_type": "code",
   "execution_count": 72,
   "id": "c8f3c819",
   "metadata": {},
   "outputs": [],
   "source": [
    "scaler=scaler.fit(df_for_training)"
   ]
  },
  {
   "cell_type": "code",
   "execution_count": 73,
   "id": "85406631",
   "metadata": {},
   "outputs": [],
   "source": [
    "df_for_training_scaled=scaler.transform(df_for_training)"
   ]
  },
  {
   "cell_type": "code",
   "execution_count": 74,
   "id": "b0d6d1b9",
   "metadata": {},
   "outputs": [],
   "source": [
    "n_future=1\n",
    "n_past=20"
   ]
  },
  {
   "cell_type": "code",
   "execution_count": 75,
   "id": "beb52384",
   "metadata": {},
   "outputs": [],
   "source": [
    "#Defining training(trainX) and Prediction(trainY) Attribites\n",
    "trainX=[]\n",
    "trainY=[]"
   ]
  },
  {
   "cell_type": "code",
   "execution_count": 76,
   "id": "096d2d7b",
   "metadata": {},
   "outputs": [],
   "source": [
    "for i in range(n_past,len(df_for_training_scaled)-n_future+1):\n",
    "    trainX.append(df_for_training_scaled[i-n_past:i,0:df_for_training.shape[1]])\n",
    "    trainY.append(df_for_training_scaled[i+n_future-1:i+n_future,4])"
   ]
  },
  {
   "cell_type": "code",
   "execution_count": 77,
   "id": "8d12f364",
   "metadata": {},
   "outputs": [],
   "source": [
    "trainX, trainY=np.array(trainX),np.array(trainY)"
   ]
  },
  {
   "cell_type": "code",
   "execution_count": 78,
   "id": "98f04cb0",
   "metadata": {},
   "outputs": [
    {
     "name": "stdout",
     "output_type": "stream",
     "text": [
      "trainX shape==(64, 20, 15).\n",
      "trainY shape==(64, 1).\n"
     ]
    }
   ],
   "source": [
    "print('trainX shape=={}.'.format(trainX.shape))\n",
    "print('trainY shape=={}.'.format(trainY.shape))"
   ]
  },
  {
   "cell_type": "code",
   "execution_count": 79,
   "id": "cd8294c8",
   "metadata": {},
   "outputs": [],
   "source": [
    "model=Sequential()"
   ]
  },
  {
   "cell_type": "code",
   "execution_count": 80,
   "id": "b3464ff6",
   "metadata": {},
   "outputs": [],
   "source": [
    "model.add(LSTM(256,activation='relu',input_shape=(trainX.shape[1],trainX.shape[2]),return_sequences=True))"
   ]
  },
  {
   "cell_type": "code",
   "execution_count": 81,
   "id": "cfb2a877",
   "metadata": {},
   "outputs": [],
   "source": [
    "model.add(LSTM(64,activation='relu',return_sequences=False))"
   ]
  },
  {
   "cell_type": "code",
   "execution_count": 82,
   "id": "c1312d8d",
   "metadata": {},
   "outputs": [],
   "source": [
    "model.add(Dropout(0.2))\n",
    "model.add(Dense(trainY.shape[1]))"
   ]
  },
  {
   "cell_type": "code",
   "execution_count": 83,
   "id": "1e288c80",
   "metadata": {},
   "outputs": [
    {
     "name": "stdout",
     "output_type": "stream",
     "text": [
      "Model: \"sequential_2\"\n",
      "_________________________________________________________________\n",
      "Layer (type)                 Output Shape              Param #   \n",
      "=================================================================\n",
      "lstm_4 (LSTM)                (None, 20, 256)           278528    \n",
      "_________________________________________________________________\n",
      "lstm_5 (LSTM)                (None, 64)                82176     \n",
      "_________________________________________________________________\n",
      "dropout_2 (Dropout)          (None, 64)                0         \n",
      "_________________________________________________________________\n",
      "dense_2 (Dense)              (None, 1)                 65        \n",
      "=================================================================\n",
      "Total params: 360,769\n",
      "Trainable params: 360,769\n",
      "Non-trainable params: 0\n",
      "_________________________________________________________________\n"
     ]
    }
   ],
   "source": [
    "model.compile(optimizer='adam',loss='mean_squared_error')\n",
    "model.summary()"
   ]
  },
  {
   "cell_type": "code",
   "execution_count": 84,
   "id": "d201a7ba",
   "metadata": {
    "scrolled": true
   },
   "outputs": [
    {
     "name": "stdout",
     "output_type": "stream",
     "text": [
      "Epoch 1/80\n",
      "1/1 [==============================] - 3s 3s/step - loss: 0.9318 - val_loss: 1.5852\n",
      "Epoch 2/80\n",
      "1/1 [==============================] - 0s 64ms/step - loss: 0.8717 - val_loss: 1.5136\n",
      "Epoch 3/80\n",
      "1/1 [==============================] - 0s 65ms/step - loss: 0.8694 - val_loss: 1.4205\n",
      "Epoch 4/80\n",
      "1/1 [==============================] - 0s 63ms/step - loss: 0.8599 - val_loss: 1.3318\n",
      "Epoch 5/80\n",
      "1/1 [==============================] - 0s 65ms/step - loss: 0.8000 - val_loss: 1.2303\n",
      "Epoch 6/80\n",
      "1/1 [==============================] - 0s 65ms/step - loss: 0.7823 - val_loss: 1.1389\n",
      "Epoch 7/80\n",
      "1/1 [==============================] - 0s 62ms/step - loss: 0.7257 - val_loss: 1.0596\n",
      "Epoch 8/80\n",
      "1/1 [==============================] - 0s 66ms/step - loss: 0.6505 - val_loss: 0.9591\n",
      "Epoch 9/80\n",
      "1/1 [==============================] - 0s 65ms/step - loss: 0.6487 - val_loss: 0.8708\n",
      "Epoch 10/80\n",
      "1/1 [==============================] - 0s 65ms/step - loss: 0.5786 - val_loss: 0.7072\n",
      "Epoch 11/80\n",
      "1/1 [==============================] - 0s 68ms/step - loss: 0.4398 - val_loss: 0.4840\n",
      "Epoch 12/80\n",
      "1/1 [==============================] - 0s 63ms/step - loss: 0.2935 - val_loss: 1.4016\n",
      "Epoch 13/80\n",
      "1/1 [==============================] - 0s 63ms/step - loss: 1.6604 - val_loss: 0.6194\n",
      "Epoch 14/80\n",
      "1/1 [==============================] - 0s 65ms/step - loss: 0.4297 - val_loss: 1.2078\n",
      "Epoch 15/80\n",
      "1/1 [==============================] - 0s 64ms/step - loss: 0.5720 - val_loss: 0.8425\n",
      "Epoch 16/80\n",
      "1/1 [==============================] - 0s 65ms/step - loss: 0.5372 - val_loss: 0.6725\n",
      "Epoch 17/80\n",
      "1/1 [==============================] - 0s 66ms/step - loss: 0.5128 - val_loss: 0.7034\n",
      "Epoch 18/80\n",
      "1/1 [==============================] - 0s 65ms/step - loss: 0.4945 - val_loss: 0.8023\n",
      "Epoch 19/80\n",
      "1/1 [==============================] - 0s 67ms/step - loss: 0.5015 - val_loss: 0.9101\n",
      "Epoch 20/80\n",
      "1/1 [==============================] - 0s 65ms/step - loss: 0.5730 - val_loss: 1.0093\n",
      "Epoch 21/80\n",
      "1/1 [==============================] - 0s 66ms/step - loss: 0.5622 - val_loss: 1.0898\n",
      "Epoch 22/80\n",
      "1/1 [==============================] - 0s 67ms/step - loss: 0.6155 - val_loss: 1.1501\n",
      "Epoch 23/80\n",
      "1/1 [==============================] - 0s 65ms/step - loss: 0.5781 - val_loss: 1.1907\n",
      "Epoch 24/80\n",
      "1/1 [==============================] - 0s 66ms/step - loss: 0.6333 - val_loss: 1.2130\n",
      "Epoch 25/80\n",
      "1/1 [==============================] - 0s 64ms/step - loss: 0.6116 - val_loss: 1.2183\n",
      "Epoch 26/80\n",
      "1/1 [==============================] - 0s 65ms/step - loss: 0.6248 - val_loss: 1.2085\n",
      "Epoch 27/80\n",
      "1/1 [==============================] - 0s 65ms/step - loss: 0.6223 - val_loss: 1.1857\n",
      "Epoch 28/80\n",
      "1/1 [==============================] - 0s 66ms/step - loss: 0.6649 - val_loss: 1.1550\n",
      "Epoch 29/80\n",
      "1/1 [==============================] - 0s 66ms/step - loss: 0.6185 - val_loss: 1.1151\n",
      "Epoch 30/80\n",
      "1/1 [==============================] - 0s 65ms/step - loss: 0.5835 - val_loss: 1.0687\n",
      "Epoch 31/80\n",
      "1/1 [==============================] - 0s 67ms/step - loss: 0.6051 - val_loss: 1.0135\n",
      "Epoch 32/80\n",
      "1/1 [==============================] - 0s 65ms/step - loss: 0.5707 - val_loss: 0.9542\n",
      "Epoch 33/80\n",
      "1/1 [==============================] - 0s 69ms/step - loss: 0.5764 - val_loss: 0.8963\n",
      "Epoch 34/80\n",
      "1/1 [==============================] - 0s 67ms/step - loss: 0.5635 - val_loss: 0.8406\n",
      "Epoch 35/80\n",
      "1/1 [==============================] - 0s 67ms/step - loss: 0.5559 - val_loss: 0.7888\n",
      "Epoch 36/80\n",
      "1/1 [==============================] - 0s 65ms/step - loss: 0.5317 - val_loss: 0.7438\n",
      "Epoch 37/80\n",
      "1/1 [==============================] - 0s 65ms/step - loss: 0.5446 - val_loss: 0.7045\n",
      "Epoch 38/80\n",
      "1/1 [==============================] - 0s 66ms/step - loss: 0.4670 - val_loss: 0.6708\n",
      "Epoch 39/80\n",
      "1/1 [==============================] - 0s 68ms/step - loss: 0.5400 - val_loss: 0.6433\n",
      "Epoch 40/80\n",
      "1/1 [==============================] - 0s 69ms/step - loss: 0.4463 - val_loss: 0.6192\n",
      "Epoch 41/80\n",
      "1/1 [==============================] - 0s 77ms/step - loss: 0.4493 - val_loss: 0.6100\n",
      "Epoch 42/80\n",
      "1/1 [==============================] - 0s 75ms/step - loss: 0.4081 - val_loss: 0.6391\n",
      "Epoch 43/80\n",
      "1/1 [==============================] - 0s 67ms/step - loss: 0.3821 - val_loss: 0.7346\n",
      "Epoch 44/80\n",
      "1/1 [==============================] - 0s 65ms/step - loss: 0.3671 - val_loss: 0.9914\n",
      "Epoch 45/80\n",
      "1/1 [==============================] - 0s 65ms/step - loss: 0.3192 - val_loss: 1.3247\n",
      "Epoch 46/80\n",
      "1/1 [==============================] - 0s 67ms/step - loss: 0.3408 - val_loss: 1.3187\n",
      "Epoch 47/80\n",
      "1/1 [==============================] - 0s 66ms/step - loss: 0.2812 - val_loss: 1.0763\n",
      "Epoch 48/80\n",
      "1/1 [==============================] - 0s 67ms/step - loss: 0.2781 - val_loss: 1.0195\n",
      "Epoch 49/80\n",
      "1/1 [==============================] - 0s 65ms/step - loss: 0.3124 - val_loss: 1.7055\n",
      "Epoch 50/80\n",
      "1/1 [==============================] - 0s 65ms/step - loss: 0.2545 - val_loss: 1.4609\n",
      "Epoch 51/80\n",
      "1/1 [==============================] - 0s 65ms/step - loss: 0.2417 - val_loss: 0.9146\n",
      "Epoch 52/80\n",
      "1/1 [==============================] - 0s 64ms/step - loss: 0.2146 - val_loss: 0.4934\n",
      "Epoch 53/80\n",
      "1/1 [==============================] - 0s 65ms/step - loss: 0.1992 - val_loss: 0.2447\n",
      "Epoch 54/80\n",
      "1/1 [==============================] - 0s 67ms/step - loss: 0.2324 - val_loss: 0.2423\n",
      "Epoch 55/80\n",
      "1/1 [==============================] - 0s 66ms/step - loss: 0.1759 - val_loss: 0.2723\n",
      "Epoch 56/80\n",
      "1/1 [==============================] - 0s 66ms/step - loss: 0.1524 - val_loss: 0.3058\n",
      "Epoch 57/80\n",
      "1/1 [==============================] - 0s 65ms/step - loss: 0.1336 - val_loss: 0.2586\n",
      "Epoch 58/80\n",
      "1/1 [==============================] - 0s 69ms/step - loss: 0.1297 - val_loss: 0.1621\n",
      "Epoch 59/80\n",
      "1/1 [==============================] - 0s 66ms/step - loss: 0.1243 - val_loss: 0.1210\n",
      "Epoch 60/80\n",
      "1/1 [==============================] - 0s 67ms/step - loss: 0.1381 - val_loss: 0.1174\n",
      "Epoch 61/80\n",
      "1/1 [==============================] - 0s 63ms/step - loss: 0.1349 - val_loss: 0.1334\n",
      "Epoch 62/80\n",
      "1/1 [==============================] - 0s 64ms/step - loss: 0.0932 - val_loss: 0.1255\n",
      "Epoch 63/80\n",
      "1/1 [==============================] - 0s 63ms/step - loss: 0.1080 - val_loss: 0.0544\n",
      "Epoch 64/80\n",
      "1/1 [==============================] - 0s 65ms/step - loss: 0.1014 - val_loss: 0.0412\n",
      "Epoch 65/80\n",
      "1/1 [==============================] - 0s 66ms/step - loss: 0.1157 - val_loss: 0.0415\n",
      "Epoch 66/80\n",
      "1/1 [==============================] - 0s 65ms/step - loss: 0.1366 - val_loss: 0.0561\n",
      "Epoch 67/80\n",
      "1/1 [==============================] - 0s 65ms/step - loss: 0.0951 - val_loss: 0.1370\n",
      "Epoch 68/80\n",
      "1/1 [==============================] - 0s 65ms/step - loss: 0.1305 - val_loss: 0.1052\n",
      "Epoch 69/80\n",
      "1/1 [==============================] - 0s 66ms/step - loss: 0.0831 - val_loss: 0.0630\n",
      "Epoch 70/80\n",
      "1/1 [==============================] - 0s 64ms/step - loss: 0.0912 - val_loss: 0.0575\n",
      "Epoch 71/80\n",
      "1/1 [==============================] - 0s 64ms/step - loss: 0.0960 - val_loss: 0.0634\n",
      "Epoch 72/80\n",
      "1/1 [==============================] - 0s 66ms/step - loss: 0.0872 - val_loss: 0.0669\n",
      "Epoch 73/80\n",
      "1/1 [==============================] - 0s 65ms/step - loss: 0.0913 - val_loss: 0.0679\n",
      "Epoch 74/80\n",
      "1/1 [==============================] - 0s 65ms/step - loss: 0.1034 - val_loss: 0.0723\n",
      "Epoch 75/80\n",
      "1/1 [==============================] - 0s 65ms/step - loss: 0.0879 - val_loss: 0.0898\n",
      "Epoch 76/80\n",
      "1/1 [==============================] - 0s 62ms/step - loss: 0.0900 - val_loss: 0.0732\n",
      "Epoch 77/80\n",
      "1/1 [==============================] - 0s 65ms/step - loss: 0.0887 - val_loss: 0.0519\n",
      "Epoch 78/80\n",
      "1/1 [==============================] - 0s 67ms/step - loss: 0.0668 - val_loss: 0.0519\n",
      "Epoch 79/80\n",
      "1/1 [==============================] - 0s 66ms/step - loss: 0.0626 - val_loss: 0.0668\n",
      "Epoch 80/80\n",
      "1/1 [==============================] - 0s 67ms/step - loss: 0.0759 - val_loss: 0.0690\n"
     ]
    }
   ],
   "source": [
    "history=model.fit(trainX,trainY,epochs=80,batch_size=60,validation_split=0.1,verbose=1)"
   ]
  },
  {
   "cell_type": "code",
   "execution_count": 85,
   "id": "bb07d751",
   "metadata": {},
   "outputs": [
    {
     "data": {
      "text/plain": [
       "<matplotlib.legend.Legend at 0x1ff1cad0dc0>"
      ]
     },
     "execution_count": 85,
     "metadata": {},
     "output_type": "execute_result"
    },
    {
     "data": {
      "image/png": "[encoded data removed]",
      "text/plain": [
       "<Figure size 432x288 with 1 Axes>"
      ]
     },
     "metadata": {
      "needs_background": "light"
     },
     "output_type": "display_data"
    }
   ],
   "source": [
    "plt.plot(history.history['loss'],label='Training loss')\n",
    "plt.plot(history.history['val_loss'],label='Validation loss')\n",
    "plt.legend()"
   ]
  },
  {
   "cell_type": "code",
   "execution_count": 86,
   "id": "069106a5",
   "metadata": {},
   "outputs": [],
   "source": [
    "n_days_for_prediction=13"
   ]
  },
  {
   "cell_type": "code",
   "execution_count": 87,
   "id": "a815bfb6",
   "metadata": {},
   "outputs": [],
   "source": [
    "predict_period_dates = pd.date_range(list(train_dates)[-1], periods=n_days_for_prediction, freq='MS').tolist()"
   ]
  },
  {
   "cell_type": "code",
   "execution_count": 88,
   "id": "551fdce8",
   "metadata": {},
   "outputs": [],
   "source": [
    "forecast=model.predict(trainX[-n_days_for_prediction:])"
   ]
  },
  {
   "cell_type": "code",
   "execution_count": 89,
   "id": "c689840d",
   "metadata": {},
   "outputs": [],
   "source": [
    "forecast_copies=np.repeat(forecast,df_for_training.shape[1],axis=-1)"
   ]
  },
  {
   "cell_type": "code",
   "execution_count": 90,
   "id": "69e1806a",
   "metadata": {},
   "outputs": [],
   "source": [
    "y_pred_future=scaler.inverse_transform(forecast_copies)[:,4]"
   ]
  },
  {
   "cell_type": "code",
   "execution_count": 91,
   "id": "02a8fb31",
   "metadata": {},
   "outputs": [],
   "source": [
    "forecast_dates=[]\n",
    "for time_i in predict_period_dates:\n",
    "    forecast_dates.append(time_i.date())"
   ]
  },
  {
   "cell_type": "code",
   "execution_count": 94,
   "id": "b3dc43d8",
   "metadata": {},
   "outputs": [],
   "source": [
    "df_forecast=pd.DataFrame({'Time':np.array(forecast_dates),'Hydroelectric Power Production':y_pred_future})"
   ]
  },
  {
   "cell_type": "code",
   "execution_count": 93,
   "id": "b1fa900d",
   "metadata": {},
   "outputs": [
    {
     "data": {
      "text/html": [
       "<div>\n",
       "<style scoped>\n",
       "    .dataframe tbody tr th:only-of-type {\n",
       "        vertical-align: middle;\n",
       "    }\n",
       "\n",
       "    .dataframe tbody tr th {\n",
       "        vertical-align: top;\n",
       "    }\n",
       "\n",
       "    .dataframe thead th {\n",
       "        text-align: right;\n",
       "    }\n",
       "</style>\n",
       "<table border=\"1\" class=\"dataframe\">\n",
       "  <thead>\n",
       "    <tr style=\"text-align: right;\">\n",
       "      <th></th>\n",
       "      <th>Time</th>\n",
       "      <th>Hydroelectric Power Production</th>\n",
       "    </tr>\n",
       "  </thead>\n",
       "  <tbody>\n",
       "    <tr>\n",
       "      <th>0</th>\n",
       "      <td>2021-02-01</td>\n",
       "      <td>8782.988281</td>\n",
       "    </tr>\n",
       "    <tr>\n",
       "      <th>1</th>\n",
       "      <td>2021-03-01</td>\n",
       "      <td>7853.648926</td>\n",
       "    </tr>\n",
       "    <tr>\n",
       "      <th>2</th>\n",
       "      <td>2021-04-01</td>\n",
       "      <td>7680.010742</td>\n",
       "    </tr>\n",
       "    <tr>\n",
       "      <th>3</th>\n",
       "      <td>2021-05-01</td>\n",
       "      <td>8285.608398</td>\n",
       "    </tr>\n",
       "    <tr>\n",
       "      <th>4</th>\n",
       "      <td>2021-06-01</td>\n",
       "      <td>10044.723633</td>\n",
       "    </tr>\n",
       "    <tr>\n",
       "      <th>5</th>\n",
       "      <td>2021-07-01</td>\n",
       "      <td>12471.512695</td>\n",
       "    </tr>\n",
       "    <tr>\n",
       "      <th>6</th>\n",
       "      <td>2021-08-01</td>\n",
       "      <td>15703.259766</td>\n",
       "    </tr>\n",
       "    <tr>\n",
       "      <th>7</th>\n",
       "      <td>2021-09-01</td>\n",
       "      <td>18944.042969</td>\n",
       "    </tr>\n",
       "    <tr>\n",
       "      <th>8</th>\n",
       "      <td>2021-10-01</td>\n",
       "      <td>20980.460938</td>\n",
       "    </tr>\n",
       "    <tr>\n",
       "      <th>9</th>\n",
       "      <td>2021-11-01</td>\n",
       "      <td>19878.013672</td>\n",
       "    </tr>\n",
       "    <tr>\n",
       "      <th>10</th>\n",
       "      <td>2021-12-01</td>\n",
       "      <td>15913.167969</td>\n",
       "    </tr>\n",
       "    <tr>\n",
       "      <th>11</th>\n",
       "      <td>2022-01-01</td>\n",
       "      <td>11570.566406</td>\n",
       "    </tr>\n",
       "    <tr>\n",
       "      <th>12</th>\n",
       "      <td>2022-02-01</td>\n",
       "      <td>8467.270508</td>\n",
       "    </tr>\n",
       "  </tbody>\n",
       "</table>\n",
       "</div>"
      ],
      "text/plain": [
       "         Time  Hydroelectric Power Production\n",
       "0  2021-02-01                     8782.988281\n",
       "1  2021-03-01                     7853.648926\n",
       "2  2021-04-01                     7680.010742\n",
       "3  2021-05-01                     8285.608398\n",
       "4  2021-06-01                    10044.723633\n",
       "5  2021-07-01                    12471.512695\n",
       "6  2021-08-01                    15703.259766\n",
       "7  2021-09-01                    18944.042969\n",
       "8  2021-10-01                    20980.460938\n",
       "9  2021-11-01                    19878.013672\n",
       "10 2021-12-01                    15913.167969\n",
       "11 2022-01-01                    11570.566406\n",
       "12 2022-02-01                     8467.270508"
      ]
     },
     "execution_count": 93,
     "metadata": {},
     "output_type": "execute_result"
    }
   ],
   "source": [
    "df_forecast['Time']=pd.to_datetime(df_forecast['Time'])\n",
    "df_forecast"
   ]
  },
  {
   "cell_type": "code",
   "execution_count": 35,
   "id": "c779378f",
   "metadata": {},
   "outputs": [
    {
     "ename": "NameError",
     "evalue": "name 'test_data' is not defined",
     "output_type": "error",
     "traceback": [
      "\u001b[1;31m---------------------------------------------------------------------------\u001b[0m",
      "\u001b[1;31mNameError\u001b[0m                                 Traceback (most recent call last)",
      "Input \u001b[1;32mIn [35]\u001b[0m, in \u001b[0;36m<module>\u001b[1;34m\u001b[0m\n\u001b[0;32m      1\u001b[0m df_forecast[\u001b[38;5;124m'\u001b[39m\u001b[38;5;124mrow_num\u001b[39m\u001b[38;5;124m'\u001b[39m] \u001b[38;5;241m=\u001b[39m np\u001b[38;5;241m.\u001b[39marange(\u001b[38;5;28mlen\u001b[39m(df_forecast))\n\u001b[1;32m----> 2\u001b[0m test_data[\u001b[38;5;124m'\u001b[39m\u001b[38;5;124mrow_num\u001b[39m\u001b[38;5;124m'\u001b[39m] \u001b[38;5;241m=\u001b[39m np\u001b[38;5;241m.\u001b[39marange(\u001b[38;5;28mlen\u001b[39m(\u001b[43mtest_data\u001b[49m))\n\u001b[0;32m      3\u001b[0m \u001b[38;5;66;03m#final_dataset=df_forecast[['Date & Time','House_overall_predicted']].merge(original[['Date & Time','House_overall_Original']], on='Date & Time', how='left')\u001b[39;00m\n\u001b[0;32m      4\u001b[0m final_dataset\u001b[38;5;241m=\u001b[39mpd\u001b[38;5;241m.\u001b[39mmerge(test_data,df_forecast,on\u001b[38;5;241m=\u001b[39m\u001b[38;5;124m'\u001b[39m\u001b[38;5;124mrow_num\u001b[39m\u001b[38;5;124m'\u001b[39m)\n",
      "\u001b[1;31mNameError\u001b[0m: name 'test_data' is not defined"
     ]
    }
   ],
   "source": [
    "df_forecast['row_num'] = np.arange(len(df_forecast))\n",
    "test_data['row_num'] = np.arange(len(test_data))\n",
    "#final_dataset=df_forecast[['Date & Time','House_overall_predicted']].merge(original[['Date & Time','House_overall_Original']], on='Date & Time', how='left')\n",
    "final_dataset=pd.merge(test_data,df_forecast,on='row_num')\n",
    "df_forecast=df_forecast.drop('row_num',1)\n",
    "test_data=test_data.drop('row_num',1)\n",
    "final_dataset=final_dataset.drop('row_num',1).drop('Date_y',1)\n",
    "final_dataset.rename(columns = {'Date_x' : 'Date'}, inplace = True)\n",
    "final_dataset"
   ]
  },
  {
   "cell_type": "code",
   "execution_count": 183,
   "id": "3f2fa6dd",
   "metadata": {},
   "outputs": [
    {
     "name": "stderr",
     "output_type": "stream",
     "text": [
      "C:\\Users\\bsaiv\\anaconda3\\envs\\tf\\lib\\site-packages\\seaborn\\_decorators.py:36: FutureWarning: Pass the following variables as keyword args: x, y. From version 0.12, the only valid positional argument will be `data`, and passing other arguments without an explicit keyword will result in an error or misinterpretation.\n",
      "  warnings.warn(\n",
      "C:\\Users\\bsaiv\\anaconda3\\envs\\tf\\lib\\site-packages\\seaborn\\_decorators.py:36: FutureWarning: Pass the following variables as keyword args: x, y. From version 0.12, the only valid positional argument will be `data`, and passing other arguments without an explicit keyword will result in an error or misinterpretation.\n",
      "  warnings.warn(\n"
     ]
    },
    {
     "data": {
      "text/plain": [
       "<AxesSubplot:xlabel='Date', ylabel='Hydroelectric Power Production_x'>"
      ]
     },
     "execution_count": 183,
     "metadata": {},
     "output_type": "execute_result"
    },
    {
     "data": {
      "image/png": "[encoded data removed]",
      "text/plain": [
       "<Figure size 1058.4x595.44 with 1 Axes>"
      ]
     },
     "metadata": {},
     "output_type": "display_data"
    }
   ],
   "source": [
    "sns.set(rc={'figure.figsize':(14.7,8.27)})\n",
    "sns.lineplot(final_dataset['Date'],final_dataset[\"Hydroelectric Power Production_x\"],label='test')\n",
    "sns.lineplot(final_dataset['Date'],final_dataset[\"Hydroelectric Power Production_y\"],label='Predicted')"
   ]
  },
  {
   "cell_type": "code",
   "execution_count": null,
   "id": "b41702ea",
   "metadata": {},
   "outputs": [],
   "source": []
  },
  {
   "cell_type": "code",
   "execution_count": null,
   "id": "4ebbdb50",
   "metadata": {},
   "outputs": [],
   "source": []
  },
  {
   "cell_type": "code",
   "execution_count": null,
   "id": "6774ebbb",
   "metadata": {},
   "outputs": [],
   "source": []
  },
  {
   "cell_type": "code",
   "execution_count": null,
   "id": "385aeed1",
   "metadata": {},
   "outputs": [],
   "source": []
  },
  {
   "cell_type": "code",
   "execution_count": null,
   "id": "94bde4ca",
   "metadata": {},
   "outputs": [],
   "source": []
  }
 ],
 "metadata": {
  "kernelspec": {
   "display_name": "Python 3 (ipykernel)",
   "language": "python",
   "name": "python3"
  },
  "language_info": {
   "codemirror_mode": {
    "name": "ipython",
    "version": 3
   },
   "file_extension": ".py",
   "mimetype": "text/x-python",
   "name": "python",
   "nbconvert_exporter": "python",
   "pygments_lexer": "ipython3",
   "version": "3.9.7"
  }
 },
 "nbformat": 4,
 "nbformat_minor": 5
}
